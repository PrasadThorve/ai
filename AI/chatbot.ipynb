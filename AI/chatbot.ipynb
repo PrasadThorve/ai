{
 "cells": [
  {
   "cell_type": "code",
   "execution_count": null,
   "metadata": {},
   "outputs": [
    {
     "name": "stdout",
     "output_type": "stream",
     "text": [
      "Hey there! I am Prasad at your service.\n",
      ">hi\n",
      "My name is prasad\n",
      ">how are you\n",
      "None\n",
      ">what is your name\n",
      "I'm doing good How about you ?\n",
      ">your age\n",
      "I'm a computer program dude seriously you are asking me this?\n",
      ">sorry your so bad\n",
      "its alright\n",
      ">sorry\n",
      "Its Ok, never mind\n",
      ">hola\n",
      "My name is prasad\n"
     ]
    }
   ],
   "source": [
    "import nltk\n",
    "from nltk.chat.util import Chat,reflections\n",
    "\n",
    "paris=[\n",
    "    #\n",
    "    [\n",
    "        r\"my name is (.)\",\n",
    "        [\"Hello %1, How are you\"]\n",
    "    ],\n",
    "    # Or expression\n",
    "    [\n",
    "        r\"Hi|Hello|Hey there|Hola\",\n",
    "        [\"My name is prasad\"]\n",
    "    ],\n",
    "    [\n",
    "        r\"what is your name ?\",\n",
    "        [\"I'm doing good How about you ?\",]\n",
    "    ],\n",
    "    [\n",
    "        r\"sorry(.*)\",\n",
    "        [\"its alright\",\"Its Ok, never mind\",]\n",
    "    ],\n",
    "    [\n",
    "        r\"I am fine\",\n",
    "        [\"Great to here that\",\"how can i help you?:)\",]\n",
    "    ],\n",
    "    [\n",
    "        r\"(.*) age?\",\n",
    "        [\"I'm a computer program dude seriously you are asking me this?\",]\n",
    "    ],\n",
    "    \n",
    "]\n",
    "\n",
    "def chat():\n",
    "    print(\"Hey there! I am Prasad at your service.\")\n",
    "    chat = Chat(paris)\n",
    "    chat.converse()\n",
    "\n",
    "if __name__==\"__main__\":\n",
    "    chat()\n"
   ]
  },
  {
   "cell_type": "code",
   "execution_count": null,
   "metadata": {},
   "outputs": [],
   "source": []
  },
  {
   "cell_type": "code",
   "execution_count": null,
   "metadata": {},
   "outputs": [],
   "source": []
  }
 ],
 "metadata": {
  "kernelspec": {
   "display_name": "Python 3",
   "language": "python",
   "name": "python3"
  },
  "language_info": {
   "codemirror_mode": {
    "name": "ipython",
    "version": 3
   },
   "file_extension": ".py",
   "mimetype": "text/x-python",
   "name": "python",
   "nbconvert_exporter": "python",
   "pygments_lexer": "ipython3",
   "version": "3.8.3"
  }
 },
 "nbformat": 4,
 "nbformat_minor": 4
}
