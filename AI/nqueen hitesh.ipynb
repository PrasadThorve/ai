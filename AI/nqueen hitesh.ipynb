{
 "cells": [
  {
   "cell_type": "code",
   "execution_count": 6,
   "metadata": {},
   "outputs": [],
   "source": [
    "def issafe(board,x,y,n):\n",
    "    for row in range(x):\n",
    "        if board[row][y]==1:\n",
    "            return False\n",
    "    row = x\n",
    "    col = y\n",
    "    while row>=0 and col>=0:\n",
    "        if board[row][col]==1:\n",
    "            return False\n",
    "        row = row-1\n",
    "        col = col-1\n",
    "    while row>=0 and col<n:\n",
    "        if board[row][col]==1:\n",
    "            return False\n",
    "        row = row-1\n",
    "        col = col+1\n",
    "    return True"
   ]
  },
  {
   "cell_type": "code",
   "execution_count": 7,
   "metadata": {},
   "outputs": [],
   "source": [
    "def nqueen(arr,x,n):\n",
    "    if x>=n:\n",
    "        return True\n",
    "    for col in range(n):\n",
    "        if issafe(arr,x,col,n):\n",
    "            arr[x][col]=1\n",
    "            if nqueen(arr,x+1,n):\n",
    "                return True\n",
    "            arr[x][col]= 0\n",
    "    return False"
   ]
  },
  {
   "cell_type": "code",
   "execution_count": 10,
   "metadata": {},
   "outputs": [],
   "source": [
    "def main():\n",
    "    n = int(input(\"Enter the no of queens: \"))\n",
    "    board=[[0]*n for i in range(n)]\n",
    "    if nqueen(board,0,n):\n",
    "        for i in range(n):\n",
    "            for j in range(n):\n",
    "                print(board[i][j],end=\" \")\n",
    "            print()"
   ]
  },
  {
   "cell_type": "code",
   "execution_count": 12,
   "metadata": {},
   "outputs": [
    {
     "name": "stdout",
     "output_type": "stream",
     "text": [
      "Enter the no of queens: 8\n",
      "1 0 0 0 0 0 0 0 \n",
      "0 0 1 0 0 0 0 0 \n",
      "0 0 0 0 0 1 0 0 \n",
      "0 0 0 0 0 0 0 1 \n",
      "0 0 0 0 0 0 1 0 \n",
      "0 0 0 0 1 0 0 0 \n",
      "0 0 0 1 0 0 0 0 \n",
      "0 1 0 0 0 0 0 0 \n"
     ]
    }
   ],
   "source": [
    "main()"
   ]
  },
  {
   "cell_type": "code",
   "execution_count": null,
   "metadata": {},
   "outputs": [],
   "source": []
  }
 ],
 "metadata": {
  "kernelspec": {
   "display_name": "Python 3",
   "language": "python",
   "name": "python3"
  },
  "language_info": {
   "codemirror_mode": {
    "name": "ipython",
    "version": 3
   },
   "file_extension": ".py",
   "mimetype": "text/x-python",
   "name": "python",
   "nbconvert_exporter": "python",
   "pygments_lexer": "ipython3",
   "version": "3.8.3"
  }
 },
 "nbformat": 4,
 "nbformat_minor": 4
}
