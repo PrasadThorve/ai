{
 "cells": [
  {
   "cell_type": "code",
   "execution_count": 15,
   "metadata": {},
   "outputs": [],
   "source": [
    "def main():\n",
    "    node = int(input(\"Enter the number of node: \"))\n",
    "#     graph = dict()\n",
    "    graph = {\n",
    "        0: [1,2,3],\n",
    "        1: [0,3],\n",
    "        2:[0,3,4],\n",
    "        3:[0,1,2,4],\n",
    "        4:[2,3]\n",
    "    }\n",
    "    visitedDfs = set()\n",
    "    visitedBfs = set()\n",
    "    queue = []\n",
    "    \n",
    "#     for i in range(node):\n",
    "#         edge = int(input(f\"Enter the no of edges {i} node: \"))\n",
    "#         graph[i]= list()\n",
    "#         for edg in range(edge):\n",
    "#             edge_node = int(input(f\"Enter the edge {edg} for node {i}\"))\n",
    "#             graph[i].append(edg)\n",
    "    print(\"Dfs: \")        \n",
    "    dfs(graph,0,visitedDfs)\n",
    "    \n",
    "    print(\"\\nBFS: \")\n",
    "    bfs(graph,0,visitedBfs,queue)\n",
    "    \n"
   ]
  },
  {
   "cell_type": "code",
   "execution_count": 16,
   "metadata": {},
   "outputs": [],
   "source": [
    "def dfs(graph,start_node,visited):\n",
    "    if start_node not in visited:\n",
    "        visited.add(start_node)\n",
    "        print(start_node,end=\" \")\n",
    "        for neighbour in graph[start_node]:\n",
    "            dfs(graph,neighbour,visited)\n"
   ]
  },
  {
   "cell_type": "code",
   "execution_count": 17,
   "metadata": {},
   "outputs": [],
   "source": [
    "def bfs(graph,start_node,visited,queue):\n",
    "    queue.append(start_node)\n",
    "    visited.add(start_node)\n",
    "    while queue:\n",
    "        curr = queue.pop(0)\n",
    "        print(curr,end=\" \")\n",
    "        for neighbour in graph[curr]:\n",
    "            if neighbour not in visited:\n",
    "                queue.append(neighbour)\n",
    "                visited.add(neighbour)"
   ]
  },
  {
   "cell_type": "code",
   "execution_count": 18,
   "metadata": {},
   "outputs": [
    {
     "name": "stdout",
     "output_type": "stream",
     "text": [
      "Enter the number of node: 5\n",
      "Dfs: \n",
      "0 1 3 2 4 BFS: \n",
      "0 1 2 3 4 "
     ]
    }
   ],
   "source": [
    "main()"
   ]
  },
  {
   "cell_type": "code",
   "execution_count": null,
   "metadata": {},
   "outputs": [],
   "source": []
  }
 ],
 "metadata": {
  "kernelspec": {
   "display_name": "Python 3",
   "language": "python",
   "name": "python3"
  },
  "language_info": {
   "codemirror_mode": {
    "name": "ipython",
    "version": 3
   },
   "file_extension": ".py",
   "mimetype": "text/x-python",
   "name": "python",
   "nbconvert_exporter": "python",
   "pygments_lexer": "ipython3",
   "version": "3.8.3"
  }
 },
 "nbformat": 4,
 "nbformat_minor": 4
}
